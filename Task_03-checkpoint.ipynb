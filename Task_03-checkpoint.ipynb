{
 "cells": [
  {
   "cell_type": "code",
   "execution_count": 29,
   "id": "b7ee2726",
   "metadata": {},
   "outputs": [],
   "source": [
    "import os\n",
    "import numpy as np\n",
    "from sklearn.svm import SVC\n",
    "from sklearn.metrics import classification_report, confusion_matrix\n",
    "import matplotlib.pyplot as plt\n",
    "from tqdm import tqdm\n",
    "import joblib\n",
    "from sklearn.model_selection import GridSearchCV\n",
    "import cv2\n",
    "import seaborn as sns\n",
    "import time\n",
    "from sklearn.decomposition import PCA\n",
    "from sklearn.pipeline import Pipeline\n",
    "from sklearn.model_selection import train_test_split"
   ]
  },
  {
   "cell_type": "code",
   "execution_count": null,
   "id": "ebe317e6",
   "metadata": {},
   "outputs": [],
   "source": [
    "import zipfile\n",
    "\n",
    "with zipfile.ZipFile('train.zip', 'r') as zip:\n",
    "    zip.extractall('dataset')"
   ]
  },
  {
   "cell_type": "code",
   "execution_count": 1,
   "id": "a4a004e2",
   "metadata": {},
   "outputs": [],
   "source": [
    "import zipfile\n",
    "\n",
    "with zipfile.ZipFile('test1.zip', 'r') as zip:\n",
    "    zip.extractall('dataset')"
   ]
  },
  {
   "cell_type": "code",
   "execution_count": 12,
   "id": "b2c99475",
   "metadata": {},
   "outputs": [
    {
     "name": "stderr",
     "output_type": "stream",
     "text": [
      "Processing Train Images: 100%|███████████████████████████████████████████████████| 25000/25000 [06:29<00:00, 64.12it/s]\n"
     ]
    }
   ],
   "source": [
    "# dog = 1, cat = 0\n",
    "train_images = os.listdir('dataset/train')\n",
    "features = []\n",
    "labels = []\n",
    "image_size = (50, 50)\n",
    "\n",
    "#Processing train images\n",
    "for image in tqdm(train_images, desc=\"Processing Train Images\"):\n",
    "    if image[0:3] == 'cat' :\n",
    "        label = 0\n",
    "    else :\n",
    "        label = 1\n",
    "    image_read = cv2.imread('dataset/train'+\"/\"+image)\n",
    "    image_resized = cv2.resize(image_read, image_size)\n",
    "    image_normalized = image_resized / 255.0\n",
    "    image_flatten = image_normalized.flatten()\n",
    "    features.append(image_flatten)\n",
    "    labels.append(label)"
   ]
  },
  {
   "cell_type": "code",
   "execution_count": 14,
   "id": "afaad57c",
   "metadata": {},
   "outputs": [],
   "source": [
    "del train_images"
   ]
  },
  {
   "cell_type": "code",
   "execution_count": 16,
   "id": "50c4cbe9",
   "metadata": {},
   "outputs": [],
   "source": [
    "features = np.asarray(features)\n",
    "labels = np.asarray(labels)\n",
    "\n",
    "X_train, X_test, y_train, y_test = train_test_split(features, labels, test_size=0.2, shuffle=True, random_state=20)"
   ]
  },
  {
   "cell_type": "code",
   "execution_count": 17,
   "id": "bbf8a348",
   "metadata": {},
   "outputs": [],
   "source": [
    "del features\n",
    "del labels"
   ]
  },
  {
   "cell_type": "code",
   "execution_count": 19,
   "id": "dc4e2967",
   "metadata": {},
   "outputs": [],
   "source": [
    "n_components = 0.8\n",
    "pca = PCA(n_components=n_components)\n",
    "svm = SVC()\n",
    "pca = PCA(n_components=n_components, random_state=42)\n",
    "pipeline = Pipeline([\n",
    "    ('pca', pca),\n",
    "    ('svm', svm)\n",
    "])"
   ]
  },
  {
   "cell_type": "code",
   "execution_count": 20,
   "id": "673b55be",
   "metadata": {},
   "outputs": [],
   "source": [
    "param_grid = {\n",
    "    'pca__n_components': [2, 1, 0.9, 0.8],\n",
    "    'svm__kernel': ['linear', 'rbf', 'poly', 'sigmoid'],\n",
    "}"
   ]
  },
  {
   "cell_type": "code",
   "execution_count": 21,
   "id": "5a76e4cb",
   "metadata": {},
   "outputs": [
    {
     "name": "stdout",
     "output_type": "stream",
     "text": [
      "Fitting 3 folds for each of 16 candidates, totalling 48 fits\n",
      "[CV 1/3] END pca__n_components=2, svm__kernel=linear;, score=0.532 total time=  54.4s\n",
      "[CV 2/3] END pca__n_components=2, svm__kernel=linear;, score=0.528 total time=  52.8s\n",
      "[CV 3/3] END pca__n_components=2, svm__kernel=linear;, score=0.533 total time=  58.2s\n",
      "[CV 1/3] END pca__n_components=2, svm__kernel=rbf;, score=0.568 total time=  52.1s\n",
      "[CV 2/3] END pca__n_components=2, svm__kernel=rbf;, score=0.567 total time=  51.3s\n",
      "[CV 3/3] END pca__n_components=2, svm__kernel=rbf;, score=0.569 total time=  49.6s\n",
      "[CV 1/3] END pca__n_components=2, svm__kernel=poly;, score=0.494 total time=  34.5s\n",
      "[CV 2/3] END pca__n_components=2, svm__kernel=poly;, score=0.500 total time=  34.1s\n",
      "[CV 3/3] END pca__n_components=2, svm__kernel=poly;, score=0.486 total time=  32.8s\n",
      "[CV 1/3] END pca__n_components=2, svm__kernel=sigmoid;, score=0.497 total time=  26.6s\n",
      "[CV 2/3] END pca__n_components=2, svm__kernel=sigmoid;, score=0.498 total time=  25.6s\n",
      "[CV 3/3] END pca__n_components=2, svm__kernel=sigmoid;, score=0.500 total time=  27.8s\n",
      "[CV 1/3] END pca__n_components=1, svm__kernel=linear;, score=0.524 total time=  34.9s\n",
      "[CV 2/3] END pca__n_components=1, svm__kernel=linear;, score=0.510 total time=  38.1s\n",
      "[CV 3/3] END pca__n_components=1, svm__kernel=linear;, score=0.525 total time=  35.8s\n",
      "[CV 1/3] END pca__n_components=1, svm__kernel=rbf;, score=0.525 total time=  54.5s\n",
      "[CV 2/3] END pca__n_components=1, svm__kernel=rbf;, score=0.521 total time=  51.6s\n",
      "[CV 3/3] END pca__n_components=1, svm__kernel=rbf;, score=0.533 total time=  52.0s\n",
      "[CV 1/3] END pca__n_components=1, svm__kernel=poly;, score=0.503 total time= 1.2min\n",
      "[CV 2/3] END pca__n_components=1, svm__kernel=poly;, score=0.502 total time=  14.5s\n",
      "[CV 3/3] END pca__n_components=1, svm__kernel=poly;, score=0.504 total time=  13.3s\n",
      "[CV 1/3] END pca__n_components=1, svm__kernel=sigmoid;, score=0.504 total time=  11.3s\n",
      "[CV 2/3] END pca__n_components=1, svm__kernel=sigmoid;, score=0.498 total time=  11.3s\n",
      "[CV 3/3] END pca__n_components=1, svm__kernel=sigmoid;, score=0.505 total time=  11.7s\n",
      "[CV 1/3] END pca__n_components=0.9, svm__kernel=linear;, score=0.613 total time=19.3min\n",
      "[CV 2/3] END pca__n_components=0.9, svm__kernel=linear;, score=0.601 total time=15.8min\n",
      "[CV 3/3] END pca__n_components=0.9, svm__kernel=linear;, score=0.603 total time=15.5min\n",
      "[CV 1/3] END pca__n_components=0.9, svm__kernel=rbf;, score=0.678 total time= 4.9min\n",
      "[CV 2/3] END pca__n_components=0.9, svm__kernel=rbf;, score=0.667 total time= 4.9min\n",
      "[CV 3/3] END pca__n_components=0.9, svm__kernel=rbf;, score=0.684 total time= 4.9min\n",
      "[CV 1/3] END pca__n_components=0.9, svm__kernel=poly;, score=0.614 total time= 4.9min\n",
      "[CV 2/3] END pca__n_components=0.9, svm__kernel=poly;, score=0.602 total time= 4.9min\n",
      "[CV 3/3] END pca__n_components=0.9, svm__kernel=poly;, score=0.596 total time= 4.9min\n",
      "[CV 1/3] END pca__n_components=0.9, svm__kernel=sigmoid;, score=0.525 total time= 4.4min\n",
      "[CV 2/3] END pca__n_components=0.9, svm__kernel=sigmoid;, score=0.522 total time= 4.4min\n",
      "[CV 3/3] END pca__n_components=0.9, svm__kernel=sigmoid;, score=0.525 total time= 4.4min\n",
      "[CV 1/3] END pca__n_components=0.8, svm__kernel=linear;, score=0.590 total time= 6.9min\n",
      "[CV 2/3] END pca__n_components=0.8, svm__kernel=linear;, score=0.589 total time= 6.9min\n",
      "[CV 3/3] END pca__n_components=0.8, svm__kernel=linear;, score=0.585 total time= 6.9min\n",
      "[CV 1/3] END pca__n_components=0.8, svm__kernel=rbf;, score=0.666 total time= 4.2min\n",
      "[CV 2/3] END pca__n_components=0.8, svm__kernel=rbf;, score=0.655 total time= 4.2min\n",
      "[CV 3/3] END pca__n_components=0.8, svm__kernel=rbf;, score=0.672 total time= 4.1min\n",
      "[CV 1/3] END pca__n_components=0.8, svm__kernel=poly;, score=0.605 total time= 4.1min\n",
      "[CV 2/3] END pca__n_components=0.8, svm__kernel=poly;, score=0.588 total time= 4.1min\n",
      "[CV 3/3] END pca__n_components=0.8, svm__kernel=poly;, score=0.590 total time= 4.3min\n",
      "[CV 1/3] END pca__n_components=0.8, svm__kernel=sigmoid;, score=0.521 total time= 5.5min\n",
      "[CV 2/3] END pca__n_components=0.8, svm__kernel=sigmoid;, score=0.518 total time= 5.5min\n",
      "[CV 3/3] END pca__n_components=0.8, svm__kernel=sigmoid;, score=0.511 total time= 5.5min\n"
     ]
    }
   ],
   "source": [
    "start_time = time.time()\n",
    "\n",
    "grid_search = GridSearchCV(pipeline, param_grid, cv=3, verbose=4)\n",
    "grid_search.fit(X_train, y_train)\n",
    "\n",
    "end_time = time.time()"
   ]
  },
  {
   "cell_type": "code",
   "execution_count": 22,
   "id": "16edbb7a",
   "metadata": {},
   "outputs": [],
   "source": [
    "del X_train\n",
    "del y_train"
   ]
  },
  {
   "cell_type": "code",
   "execution_count": 23,
   "id": "d763d603",
   "metadata": {},
   "outputs": [
    {
     "name": "stdout",
     "output_type": "stream",
     "text": [
      "Best Parameters:  {'pca__n_components': 0.9, 'svm__kernel': 'rbf'}\n",
      "Best Score:  0.676200400901047\n"
     ]
    }
   ],
   "source": [
    "best_pipeline = grid_search.best_estimator_\n",
    "best_params = grid_search.best_params_\n",
    "best_score = grid_search.best_score_\n",
    "\n",
    "print(\"Best Parameters: \", best_params)\n",
    "print(\"Best Score: \", best_score)"
   ]
  },
  {
   "cell_type": "code",
   "execution_count": 24,
   "id": "bab9cd49",
   "metadata": {},
   "outputs": [
    {
     "name": "stdout",
     "output_type": "stream",
     "text": [
      "Accuracy: 0.6784\n"
     ]
    }
   ],
   "source": [
    "accuracy = best_pipeline.score(X_test, y_test)\n",
    "print(\"Accuracy:\", accuracy)"
   ]
  },
  {
   "cell_type": "code",
   "execution_count": null,
   "id": "d8825831",
   "metadata": {},
   "outputs": [],
   "source": []
  }
 ],
 "metadata": {
  "kernelspec": {
   "display_name": "Python 3 (ipykernel)",
   "language": "python",
   "name": "python3"
  },
  "language_info": {
   "codemirror_mode": {
    "name": "ipython",
    "version": 3
   },
   "file_extension": ".py",
   "mimetype": "text/x-python",
   "name": "python",
   "nbconvert_exporter": "python",
   "pygments_lexer": "ipython3",
   "version": "3.11.4"
  }
 },
 "nbformat": 4,
 "nbformat_minor": 5
}
